{
 "cells": [
  {
   "cell_type": "markdown",
   "id": "38ff6fc7",
   "metadata": {},
   "source": [
    "## Python Basic - commands and code testing\n",
    "\n",
    "### CAB431 (Professor Yuefeng Li)"
   ]
  },
  {
   "cell_type": "code",
   "execution_count": 1,
   "id": "720ee075",
   "metadata": {},
   "outputs": [],
   "source": [
    "# define a string s\n",
    "s = 'First line.\\nSecond line.'  "
   ]
  },
  {
   "cell_type": "code",
   "execution_count": 2,
   "id": "29beb6e6",
   "metadata": {},
   "outputs": [
    {
     "name": "stdout",
     "output_type": "stream",
     "text": [
      "24\n",
      "First line.\n",
      "Second line.\n"
     ]
    }
   ],
   "source": [
    "# print the string, \\n means a new line\n",
    "print(len(s)) # print the length of the string\n",
    "print(s)"
   ]
  },
  {
   "cell_type": "code",
   "execution_count": 3,
   "id": "4de309fa",
   "metadata": {},
   "outputs": [
    {
     "data": {
      "text/plain": [
       "'.'"
      ]
     },
     "execution_count": 3,
     "metadata": {},
     "output_type": "execute_result"
    }
   ],
   "source": [
    "# get elements or sub-string of the string \n",
    "s[-1]"
   ]
  },
  {
   "cell_type": "code",
   "execution_count": 4,
   "id": "a830fb57",
   "metadata": {},
   "outputs": [
    {
     "data": {
      "text/plain": [
       "'\\nS'"
      ]
     },
     "execution_count": 4,
     "metadata": {},
     "output_type": "execute_result"
    }
   ],
   "source": [
    "s[11:13]"
   ]
  },
  {
   "cell_type": "code",
   "execution_count": 5,
   "id": "bfbcbd00",
   "metadata": {},
   "outputs": [
    {
     "data": {
      "text/plain": [
       "'\\n'"
      ]
     },
     "execution_count": 5,
     "metadata": {},
     "output_type": "execute_result"
    }
   ],
   "source": [
    "s[11]"
   ]
  },
  {
   "cell_type": "code",
   "execution_count": 6,
   "id": "b9d6b5b2",
   "metadata": {},
   "outputs": [
    {
     "data": {
      "text/plain": [
       "['First line.', 'Second line.']"
      ]
     },
     "execution_count": 6,
     "metadata": {},
     "output_type": "execute_result"
    }
   ],
   "source": [
    "# test string methods\n",
    "s.split(sep='\\n', maxsplit=-1)"
   ]
  },
  {
   "cell_type": "code",
   "execution_count": 7,
   "id": "c760f4e8",
   "metadata": {},
   "outputs": [
    {
     "data": {
      "text/plain": [
       "False"
      ]
     },
     "execution_count": 7,
     "metadata": {},
     "output_type": "execute_result"
    }
   ],
   "source": [
    "s.istitle()"
   ]
  },
  {
   "cell_type": "code",
   "execution_count": 8,
   "id": "4d95c773",
   "metadata": {},
   "outputs": [
    {
     "data": {
      "text/plain": [
       "False"
      ]
     },
     "execution_count": 8,
     "metadata": {},
     "output_type": "execute_result"
    }
   ],
   "source": [
    "s.isalpha()"
   ]
  },
  {
   "cell_type": "code",
   "execution_count": 9,
   "id": "07d25199",
   "metadata": {},
   "outputs": [
    {
     "data": {
      "text/plain": [
       "True"
      ]
     },
     "execution_count": 9,
     "metadata": {},
     "output_type": "execute_result"
    }
   ],
   "source": [
    "s1='first'\n",
    "s1.isalpha()"
   ]
  },
  {
   "cell_type": "code",
   "execution_count": 10,
   "id": "3c08abf1",
   "metadata": {},
   "outputs": [
    {
     "data": {
      "text/plain": [
       "False"
      ]
     },
     "execution_count": 10,
     "metadata": {},
     "output_type": "execute_result"
    }
   ],
   "source": [
    "s1.istitle()"
   ]
  },
  {
   "cell_type": "code",
   "execution_count": 11,
   "id": "bf960c9b",
   "metadata": {},
   "outputs": [
    {
     "data": {
      "text/plain": [
       "False"
      ]
     },
     "execution_count": 11,
     "metadata": {},
     "output_type": "execute_result"
    }
   ],
   "source": [
    "s2='First Second'\n",
    "s2.isalpha()"
   ]
  },
  {
   "cell_type": "code",
   "execution_count": 12,
   "id": "1afe0994",
   "metadata": {},
   "outputs": [
    {
     "data": {
      "text/plain": [
       "False"
      ]
     },
     "execution_count": 12,
     "metadata": {},
     "output_type": "execute_result"
    }
   ],
   "source": [
    "spam = 'Hello world!'\n",
    "spam.istitle()"
   ]
  },
  {
   "cell_type": "code",
   "execution_count": 13,
   "id": "9c2054bf",
   "metadata": {},
   "outputs": [
    {
     "data": {
      "text/plain": [
       "True"
      ]
     },
     "execution_count": 13,
     "metadata": {},
     "output_type": "execute_result"
    }
   ],
   "source": [
    "spam = 'Hello World!'\n",
    "spam.istitle()"
   ]
  },
  {
   "cell_type": "code",
   "execution_count": 14,
   "id": "b0b514ef",
   "metadata": {},
   "outputs": [
    {
     "data": {
      "text/plain": [
       "['My', 'Name', 'is', 'John']"
      ]
     },
     "execution_count": 14,
     "metadata": {},
     "output_type": "execute_result"
    }
   ],
   "source": [
    "s='-'.join(['My', 'Name', 'is', 'John'])\n",
    "s.split(sep='-', maxsplit=-1)"
   ]
  },
  {
   "cell_type": "code",
   "execution_count": 15,
   "id": "03bd61e0",
   "metadata": {},
   "outputs": [
    {
     "data": {
      "text/plain": [
       "'My-Name-is-Joh'"
      ]
     },
     "execution_count": 15,
     "metadata": {},
     "output_type": "execute_result"
    }
   ],
   "source": [
    "s.strip('n')"
   ]
  },
  {
   "cell_type": "code",
   "execution_count": 16,
   "id": "673082b2",
   "metadata": {},
   "outputs": [
    {
     "data": {
      "text/plain": [
       "' My # name is '"
      ]
     },
     "execution_count": 16,
     "metadata": {},
     "output_type": "execute_result"
    }
   ],
   "source": [
    "s = '## My # name is #'\n",
    "s.strip('#')"
   ]
  },
  {
   "cell_type": "code",
   "execution_count": 17,
   "id": "acffe8bc",
   "metadata": {},
   "outputs": [
    {
     "data": {
      "text/plain": [
       "'%% My % name is #'"
      ]
     },
     "execution_count": 17,
     "metadata": {},
     "output_type": "execute_result"
    }
   ],
   "source": [
    "s.replace('#', '%', 3)"
   ]
  },
  {
   "cell_type": "code",
   "execution_count": 18,
   "id": "8230a07e",
   "metadata": {},
   "outputs": [
    {
     "data": {
      "text/plain": [
       "'Hello WOrld!'"
      ]
     },
     "execution_count": 18,
     "metadata": {},
     "output_type": "execute_result"
    }
   ],
   "source": [
    "spam = 'HellO WOrld!'\n",
    "spam.replace('O', 'o', 1)\n"
   ]
  },
  {
   "cell_type": "code",
   "execution_count": 19,
   "id": "83fcd1f9",
   "metadata": {},
   "outputs": [
    {
     "name": "stdout",
     "output_type": "stream",
     "text": [
      "Hello World!\n"
     ]
    }
   ],
   "source": [
    "mystr = 'Mello World?'\n",
    "mappingtbl = mystr.maketrans('M?','H!')\n",
    "newstr = mystr.translate(mappingtbl) # pass mapping table in translate()\n",
    "print(newstr)"
   ]
  },
  {
   "cell_type": "code",
   "execution_count": 1,
   "id": "7db4cb3b",
   "metadata": {},
   "outputs": [
    {
     "name": "stdout",
     "output_type": "stream",
     "text": [
      "Hello\n",
      "What's your name?\n",
      "It is good to meet you,Ben\n",
      "The length of your name is\n",
      "\n",
      "3\n"
     ]
    }
   ],
   "source": [
    "# simple program\n",
    "\n",
    "print('Hello')\n",
    "print('What\\'s your name?')\n",
    "yourName=input()\n",
    "print('It is good to meet you,' + yourName) #yourName must be a string?\n",
    "print('The length of your name is\\n')\n",
    "print(len(yourName))"
   ]
  },
  {
   "cell_type": "code",
   "execution_count": 21,
   "id": "440cc86a",
   "metadata": {},
   "outputs": [
    {
     "name": "stdout",
     "output_type": "stream",
     "text": [
      "Please enter an integer: 2\n",
      "More\n"
     ]
    }
   ],
   "source": [
    "# if statements\n",
    "x = int(input(\"Please enter an integer: \"))\n",
    "if x < 0:\n",
    "     x = 0\n",
    "     print('Negative changed to zero')\n",
    "elif x == 0:\n",
    "     print('Zero')\n",
    "elif x == 1:\n",
    "     print('Single')\n",
    "else:\n",
    "     print('More')"
   ]
  },
  {
   "cell_type": "code",
   "execution_count": 22,
   "id": "72adcc33",
   "metadata": {},
   "outputs": [
    {
     "name": "stdout",
     "output_type": "stream",
     "text": [
      "cat 3\n",
      "window 6\n",
      "defenestrate 12\n"
     ]
    }
   ],
   "source": [
    "# for loops\n",
    "words = ['cat', 'window', 'defenestrate']\n",
    "for w in words:\n",
    "    print(w, len(w))"
   ]
  },
  {
   "cell_type": "code",
   "execution_count": 23,
   "id": "a2cbb967",
   "metadata": {},
   "outputs": [
    {
     "name": "stdout",
     "output_type": "stream",
     "text": [
      "0 Mary\n",
      "1 had\n",
      "2 a\n",
      "3 little\n",
      "4 lamb\n"
     ]
    }
   ],
   "source": [
    "# use range\n",
    "a = ['Mary', 'had', 'a', 'little', 'lamb']\n",
    "for i in range(len(a)): # or range(0, len(a))\n",
    "     print(i, a[i])"
   ]
  },
  {
   "cell_type": "code",
   "execution_count": 1,
   "id": "84040f1e",
   "metadata": {},
   "outputs": [
    {
     "name": "stdout",
     "output_type": "stream",
     "text": [
      "0 1 1 2 3 5 8 13 21 34 55 89 the_end\n",
      "Enter your password:\n",
      "qut2023\n",
      "I got it!\n"
     ]
    }
   ],
   "source": [
    "# write Fibonacci series up to 100\n",
    "n=100\n",
    "a, b = 0, 1\n",
    "while a < n:\n",
    "    print(a, end=' ')\n",
    "    a, b = b, a+b\n",
    "print('the_end')\n",
    "# break statement\n",
    "your_pwd = 'qut2023'\n",
    "while True:\n",
    "    print('Enter your password:')\n",
    "    input_pwd = input()\n",
    "    if input_pwd == your_pwd:\n",
    "        break\n",
    "print('I got it!')"
   ]
  },
  {
   "cell_type": "code",
   "execution_count": 2,
   "id": "2ed9c282",
   "metadata": {},
   "outputs": [
    {
     "name": "stdout",
     "output_type": "stream",
     "text": [
      "Found an even number 2\n",
      "Found a number 3\n",
      "Found an even number 4\n",
      "Found a number 5\n",
      "Found an even number 6\n",
      "Found a number 7\n",
      "Found an even number 8\n",
      "Found a number 9\n"
     ]
    }
   ],
   "source": [
    "# for loops cont.\n",
    "for num in range(2, 10):\n",
    "    if num % 2 == 0:\n",
    "        print(\"Found an even number\", num)\n",
    "        continue\n",
    "    print(\"Found a number\", num)"
   ]
  },
  {
   "cell_type": "code",
   "execution_count": 3,
   "id": "bc9c12e4",
   "metadata": {},
   "outputs": [
    {
     "data": {
      "text/plain": [
       "['In',\n",
       " 'Out',\n",
       " '_',\n",
       " '__',\n",
       " '___',\n",
       " '__builtin__',\n",
       " '__builtins__',\n",
       " '__doc__',\n",
       " '__loader__',\n",
       " '__name__',\n",
       " '__package__',\n",
       " '__spec__',\n",
       " '_dh',\n",
       " '_i',\n",
       " '_i1',\n",
       " '_i2',\n",
       " '_i3',\n",
       " '_ih',\n",
       " '_ii',\n",
       " '_iii',\n",
       " '_oh',\n",
       " 'a',\n",
       " 'b',\n",
       " 'exit',\n",
       " 'get_ipython',\n",
       " 'input_pwd',\n",
       " 'n',\n",
       " 'num',\n",
       " 'quit',\n",
       " 'your_pwd']"
      ]
     },
     "execution_count": 3,
     "metadata": {},
     "output_type": "execute_result"
    }
   ],
   "source": [
    "# try it\n",
    "\n",
    "dir()"
   ]
  },
  {
   "cell_type": "code",
   "execution_count": 4,
   "id": "67c84904",
   "metadata": {},
   "outputs": [
    {
     "name": "stdout",
     "output_type": "stream",
     "text": [
      "The 1st:\n",
      "4\n",
      "The 2nd:\n",
      "1\n"
     ]
    }
   ],
   "source": [
    "# import random in two ways\n",
    "print('The 1st:')\n",
    "import random\n",
    "x = random.randint(1,10)\n",
    "print(x)\n",
    "print('The 2nd:')\n",
    "from random import randint\n",
    "y = randint(1,10)\n",
    "print(y)"
   ]
  },
  {
   "cell_type": "code",
   "execution_count": 5,
   "id": "893c1a03",
   "metadata": {},
   "outputs": [],
   "source": [
    "def fib(n):    # Fibonacci function\n",
    "    x, y = 0, 1\n",
    "    fib_list = []\n",
    "    while x < n:\n",
    "        fib_list.append(x)\n",
    "        x, y = y, x+y\n",
    "    return(fib_list)"
   ]
  },
  {
   "cell_type": "code",
   "execution_count": 6,
   "id": "62b87ec7",
   "metadata": {},
   "outputs": [
    {
     "name": "stdout",
     "output_type": "stream",
     "text": [
      "[]\n",
      "[0, 1, 1, 2, 3, 5, 8, 13, 21, 34, 55, 89]\n",
      "[0, 1, 1, 2, 3, 5, 8, 13, 21, 34, 55, 89, 144, 233, 377, 610, 987, 1597]\n"
     ]
    }
   ],
   "source": [
    "# test the function\n",
    "print(fib(0))\n",
    "print(fib(100))\n",
    "print(fib(2000))"
   ]
  },
  {
   "cell_type": "code",
   "execution_count": 7,
   "id": "b24c6661",
   "metadata": {},
   "outputs": [],
   "source": [
    "# use except\n",
    "def spam(divideBy):\n",
    "    try:\n",
    "        return 100/ divideBy\n",
    "    except ZeroDivisionError:\n",
    "        print('Error: invalid denominator')"
   ]
  },
  {
   "cell_type": "code",
   "execution_count": 8,
   "id": "c97d2906",
   "metadata": {},
   "outputs": [
    {
     "name": "stdout",
     "output_type": "stream",
     "text": [
      "Error: invalid denominator\n"
     ]
    },
    {
     "data": {
      "text/plain": [
       "8.333333333333334"
      ]
     },
     "execution_count": 8,
     "metadata": {},
     "output_type": "execute_result"
    }
   ],
   "source": [
    "# test spam function\n",
    "spam(0)\n",
    "spam(12)"
   ]
  },
  {
   "cell_type": "code",
   "execution_count": 9,
   "id": "87588fbe",
   "metadata": {},
   "outputs": [
    {
     "data": {
      "text/plain": [
       "[(1, 3), (1, 4), (2, 3), (2, 1), (2, 4), (3, 1), (3, 4)]"
      ]
     },
     "execution_count": 9,
     "metadata": {},
     "output_type": "execute_result"
    }
   ],
   "source": [
    "# list comprehension\n",
    "[(x,y) for x in [1,2,3] for y in [3,1,4] if x!=y]"
   ]
  },
  {
   "cell_type": "code",
   "execution_count": 10,
   "id": "fdf48613",
   "metadata": {},
   "outputs": [
    {
     "data": {
      "text/plain": [
       "{'jack': 4098, 'sape': 4139, 'guido': 4127}"
      ]
     },
     "execution_count": 10,
     "metadata": {},
     "output_type": "execute_result"
    }
   ],
   "source": [
    "# python dictionary (dict)\n",
    "tel = {'jack': 4098, 'sape': 4139}\n",
    "tel['guido'] = 4127 #insert\n",
    "tel"
   ]
  },
  {
   "cell_type": "code",
   "execution_count": 11,
   "id": "2475da9a",
   "metadata": {},
   "outputs": [
    {
     "data": {
      "text/plain": [
       "['jack', 'sape', 'guido']"
      ]
     },
     "execution_count": 11,
     "metadata": {},
     "output_type": "execute_result"
    }
   ],
   "source": [
    "list(tel)"
   ]
  },
  {
   "cell_type": "code",
   "execution_count": 12,
   "id": "44f9cc01",
   "metadata": {},
   "outputs": [
    {
     "data": {
      "text/plain": [
       "['guido', 'jack', 'sape']"
      ]
     },
     "execution_count": 12,
     "metadata": {},
     "output_type": "execute_result"
    }
   ],
   "source": [
    "sorted(tel)"
   ]
  },
  {
   "cell_type": "code",
   "execution_count": 13,
   "id": "83c3df45",
   "metadata": {},
   "outputs": [
    {
     "data": {
      "text/plain": [
       "False"
      ]
     },
     "execution_count": 13,
     "metadata": {},
     "output_type": "execute_result"
    }
   ],
   "source": [
    "'jack' not in tel"
   ]
  },
  {
   "cell_type": "code",
   "execution_count": 14,
   "id": "0da25759",
   "metadata": {},
   "outputs": [
    {
     "data": {
      "text/plain": [
       "True"
      ]
     },
     "execution_count": 14,
     "metadata": {},
     "output_type": "execute_result"
    }
   ],
   "source": [
    "'sape' in tel"
   ]
  },
  {
   "cell_type": "code",
   "execution_count": 15,
   "id": "9d9dc128",
   "metadata": {},
   "outputs": [
    {
     "data": {
      "text/plain": [
       "{'John': 4130, 'lee': 5212}"
      ]
     },
     "execution_count": 15,
     "metadata": {},
     "output_type": "execute_result"
    }
   ],
   "source": [
    "# list to dict\n",
    "dict([('John', 4130), ('lee', 5212)])"
   ]
  },
  {
   "cell_type": "code",
   "execution_count": 16,
   "id": "73691453",
   "metadata": {},
   "outputs": [],
   "source": [
    "# dict comprehension\n",
    "nd = {x: x**2 for x in (2, 4, 6)}"
   ]
  },
  {
   "cell_type": "code",
   "execution_count": 17,
   "id": "acf33d22",
   "metadata": {},
   "outputs": [
    {
     "data": {
      "text/plain": [
       "{2: 4, 4: 16, 6: 36}"
      ]
     },
     "execution_count": 17,
     "metadata": {},
     "output_type": "execute_result"
    }
   ],
   "source": [
    "nd"
   ]
  },
  {
   "cell_type": "code",
   "execution_count": 18,
   "id": "a11d8de3",
   "metadata": {},
   "outputs": [],
   "source": [
    "nd[8] = 64"
   ]
  },
  {
   "cell_type": "code",
   "execution_count": 19,
   "id": "613dfedc",
   "metadata": {},
   "outputs": [
    {
     "data": {
      "text/plain": [
       "{2: 4, 4: 16, 6: 36, 8: 64}"
      ]
     },
     "execution_count": 19,
     "metadata": {},
     "output_type": "execute_result"
    }
   ],
   "source": [
    "nd"
   ]
  },
  {
   "cell_type": "code",
   "execution_count": 20,
   "id": "3e18abfc",
   "metadata": {},
   "outputs": [
    {
     "data": {
      "text/plain": [
       "4098"
      ]
     },
     "execution_count": 20,
     "metadata": {},
     "output_type": "execute_result"
    }
   ],
   "source": [
    "tel['jack']"
   ]
  },
  {
   "cell_type": "code",
   "execution_count": 21,
   "id": "9cb8702d",
   "metadata": {},
   "outputs": [
    {
     "data": {
      "text/plain": [
       "{'jack': 4098, 'sape': 4139, 'guido': 4127}"
      ]
     },
     "execution_count": 21,
     "metadata": {},
     "output_type": "execute_result"
    }
   ],
   "source": [
    "tel"
   ]
  },
  {
   "cell_type": "code",
   "execution_count": 22,
   "id": "9a53731f",
   "metadata": {},
   "outputs": [
    {
     "name": "stdout",
     "output_type": "stream",
     "text": [
      "jack 4098\n",
      "sape 4139\n",
      "guido 4127\n"
     ]
    }
   ],
   "source": [
    "# loop to access dictionary\n",
    "for (k, v) in tel.items():\n",
    "    print(k,v)"
   ]
  },
  {
   "cell_type": "code",
   "execution_count": 23,
   "id": "3ae3ca85",
   "metadata": {},
   "outputs": [
    {
     "name": "stdout",
     "output_type": "stream",
     "text": [
      "4098\n",
      "4139\n",
      "4127\n"
     ]
    }
   ],
   "source": [
    "for v in tel.values():\n",
    "    print(v)"
   ]
  },
  {
   "cell_type": "code",
   "execution_count": 24,
   "id": "7810cc6a",
   "metadata": {},
   "outputs": [
    {
     "name": "stdout",
     "output_type": "stream",
     "text": [
      "jack\n",
      "sape\n",
      "guido\n"
     ]
    }
   ],
   "source": [
    "for k in tel.keys():\n",
    "    print(k)"
   ]
  },
  {
   "cell_type": "code",
   "execution_count": 25,
   "id": "5b2732cf",
   "metadata": {},
   "outputs": [],
   "source": [
    "# define class\n",
    "class MyClass:\n",
    "    \"\"\"A simple example class\"\"\"\n",
    "    i = 12345\n",
    "\n",
    "    def __init__(self, myList):\n",
    "        self.data = myList\n",
    "\n",
    "    def f(self):\n",
    "        return 'hello world'"
   ]
  },
  {
   "cell_type": "code",
   "execution_count": 26,
   "id": "07b3a709",
   "metadata": {},
   "outputs": [
    {
     "name": "stdout",
     "output_type": "stream",
     "text": [
      "12345\n",
      "hello world\n",
      "[2, 3, 0]\n",
      "[1, 2, 3, 4]\n"
     ]
    }
   ],
   "source": [
    "# test the define class\n",
    "mc = MyClass([2,3,0])\n",
    "print(mc.i)\n",
    "print(mc.f())\n",
    "print(mc.data)\n",
    "mc.data = [1,2,3,4]\n",
    "print(mc.data)"
   ]
  },
  {
   "cell_type": "code",
   "execution_count": 27,
   "id": "2f9f7bdd",
   "metadata": {},
   "outputs": [],
   "source": [
    "# class cont.\n",
    "class Node:\n",
    "    def __init__(self, data, next=None):\n",
    "        self.data=data\n",
    "        self.next=next   "
   ]
  },
  {
   "cell_type": "code",
   "execution_count": 28,
   "id": "e3b4e544",
   "metadata": {},
   "outputs": [],
   "source": [
    "class Linkedlist:\n",
    "    def __init__(self, hnode):\n",
    "        self.head=hnode\n",
    "    def insert(self, nnode):\n",
    "        if self.head != None:\n",
    "            p = self.head\n",
    "            while p.next != None:\n",
    "                p=p.next\n",
    "            p.next=nnode    \n",
    "    def lprint(self):\n",
    "        if self.head != None:\n",
    "            p = self.head\n",
    "            while p!= None:\n",
    "                print(p.data,end =\" \" )\n",
    "                if p.next != None:\n",
    "                    print ('-->', end=\" \")\n",
    "                p=p.next\n",
    "        else:\n",
    "            print('The list is empty!')"
   ]
  },
  {
   "cell_type": "code",
   "execution_count": 29,
   "id": "5941a9b3",
   "metadata": {},
   "outputs": [
    {
     "name": "stdout",
     "output_type": "stream",
     "text": [
      "A --> B --> C "
     ]
    }
   ],
   "source": [
    "myList = Linkedlist(Node(\"A\", None))\n",
    "myList.insert(Node('B', None))\n",
    "myList.insert(Node('C', None))\n",
    "myList.lprint()"
   ]
  },
  {
   "cell_type": "code",
   "execution_count": 30,
   "id": "d41a0341",
   "metadata": {},
   "outputs": [],
   "source": [
    "# test os package\n",
    "import os"
   ]
  },
  {
   "cell_type": "code",
   "execution_count": 31,
   "id": "883af3ec",
   "metadata": {},
   "outputs": [
    {
     "data": {
      "text/plain": [
       "'usr/bin/spam'"
      ]
     },
     "execution_count": 31,
     "metadata": {},
     "output_type": "execute_result"
    }
   ],
   "source": [
    "os.path.join('usr', 'bin', 'spam')"
   ]
  },
  {
   "cell_type": "code",
   "execution_count": 32,
   "id": "8ba3c5ef",
   "metadata": {},
   "outputs": [
    {
     "name": "stdout",
     "output_type": "stream",
     "text": [
      "/users/li/acounts.txt\n",
      "/users/li/details.csv\n",
      "/users/li/invite.doc\n"
     ]
    }
   ],
   "source": [
    "myFiles = ['acounts.txt', 'details.csv', 'invite.doc']\n",
    "for fn in myFiles:\n",
    "\t\tprint(os.path.join('/users/li', fn))"
   ]
  },
  {
   "cell_type": "code",
   "execution_count": 33,
   "id": "34ac4bee",
   "metadata": {},
   "outputs": [
    {
     "data": {
      "text/plain": [
       "'/Users/li3/Desktop/QUT2020_22/teaching/Sem1_2023/CAB431/week1/Python_basic_test'"
      ]
     },
     "execution_count": 33,
     "metadata": {},
     "output_type": "execute_result"
    }
   ],
   "source": [
    "# get your current working folder\n",
    "os.getcwd()"
   ]
  },
  {
   "cell_type": "code",
   "execution_count": 34,
   "id": "670dfecd",
   "metadata": {},
   "outputs": [
    {
     "name": "stdout",
     "output_type": "stream",
     "text": [
      "<?xml version=\"1.0\" encoding=\"iso-8859-1\" ?>\n",
      "<newsitem itemid=\"6146\" id=\"root\" date=\"1996-08-21\" xml:lang=\"en\">\n",
      "<title>ARGENTINA: Argentine bonds stage slight technical bounce.</title>\n",
      "<headline>Argentine bonds stage slight technical bounce.</headline>\n",
      "<dateline>BUENOS AIRES 1996-08-21</dateline>\n",
      "<text>\n",
      "<p>Argentine bonds were slightly higher in a small technical bounce Wednesday amid low volume.</p>\n",
      "<p>A trader at a large foreign bank said there was a slight technical bounce at the opening, and he did not expect prices to change much during the session as no market-moving news is expected.</p>\n",
      "<p>The 5.5 percent dollar-denominated Bocon Previsional 2 due 2001 rose $0.15 to 115.15. Argentina's FRB due 2005 rose 1/8 to 77-3/8.</p>\n",
      "<p>&quot;There is general uncertainty,&quot; said the trader, pointing to all the events the market is waiting for, including the passage of the government's new economic measures through Congress, which is now not expected until early October.</p>\n",
      "<p>In addition, traders are awaiting a meeting Friday between Economy Minister Roque Fernandez and an International Monetary Fund delegation on Argentina's fiscal deficit.</p>\n",
      "<p>-- Axel Bugge, Buenos Aires Newsroom, 541 318-0668</p>\n",
      "</text>\n",
      "<copyright>(c) Reuters Limited 1996</copyright>\n",
      "<metadata>\n",
      "<codes class=\"bip:countries:1.0\">\n",
      "  <code code=\"ARG\">\n",
      "    <editdetail attribution=\"Reuters BIP Coding Group\" action=\"confirmed\" date=\"1996-08-21\"/>\n",
      "  </code>\n",
      "</codes>\n",
      "<codes class=\"bip:topics:1.0\">\n",
      "  <code code=\"M12\">\n",
      "    <editdetail attribution=\"Reuters BIP Coding Group\" action=\"confirmed\" date=\"1996-08-21\"/>\n",
      "  </code>\n",
      "  <code code=\"MCAT\">\n",
      "    <editdetail attribution=\"Reuters BIP Coding Group\" action=\"confirmed\" date=\"1996-08-21\"/>\n",
      "  </code>\n",
      "</codes>\n",
      "<dc element=\"dc.date.created\" value=\"1996-08-21\"/>\n",
      "<dc element=\"dc.publisher\" value=\"Reuters Holdings Plc\"/>\n",
      "<dc element=\"dc.date.published\" value=\"1996-08-21\"/>\n",
      "<dc element=\"dc.source\" value=\"Reuters\"/>\n",
      "<dc element=\"dc.creator.location\" value=\"BUENOS AIRES\"/>\n",
      "<dc element=\"dc.creator.location.country.name\" value=\"ARGENTINA\"/>\n",
      "<dc element=\"dc.source\" value=\"Reuters\"/>\n",
      "</metadata>\n",
      "</newsitem>\n",
      "\n",
      "</text>\n",
      "</codes>\n",
      "</codes>\n",
      "</metadata>\n",
      "</newsitem>\n"
     ]
    }
   ],
   "source": [
    "# open a file and read its contents\n",
    "xmlFile = open('6146.xml')\n",
    "xmlContent = xmlFile.read()  # also check readlines()\n",
    "words = xmlContent.split('\\n')\n",
    "# print each paragraphs separated by newline\n",
    "for w in words:\n",
    "        print(w)\n",
    "#print all paragraphs that start with '</' \n",
    "for w in words:\n",
    "    if w.startswith('</'):\n",
    "        print(w)"
   ]
  },
  {
   "cell_type": "code",
   "execution_count": 35,
   "id": "6f25351c",
   "metadata": {},
   "outputs": [
    {
     "data": {
      "text/plain": [
       "True"
      ]
     },
     "execution_count": 35,
     "metadata": {},
     "output_type": "execute_result"
    }
   ],
   "source": [
    "# test webbrowser package\n",
    "import webbrowser\n",
    "webbrowser.open('http://inventwithpython.com/')"
   ]
  },
  {
   "cell_type": "code",
   "execution_count": 36,
   "id": "f11b64b5",
   "metadata": {},
   "outputs": [
    {
     "name": "stdout",
     "output_type": "stream",
     "text": [
      "178978\n",
      "The Project Gutenberg EBook of Romeo and Juliet, by William Shakespeare\r\n",
      "\r\n",
      "This eBook is for the use of anyone anywhere at no cost and with\r\n",
      "almost no restrictions whatsoever.  You may copy it, give it away or\r\n",
      "re-use it under the terms of the Project Gutenberg License included\r\n",
      "with this eBook or online at www.gutenberg.org/license\n"
     ]
    }
   ],
   "source": [
    "# Test requests package for opening online text files\n",
    "import requests\n",
    "res = requests.get('https://automatetheboringstuff.com/files/rj.txt')\n",
    "#type(res)\n",
    "res.status_code == requests.codes.ok\n",
    "print(len(res.text))\n",
    "print(res.text[:334])"
   ]
  },
  {
   "cell_type": "code",
   "execution_count": 37,
   "id": "bfb22882",
   "metadata": {},
   "outputs": [
    {
     "data": {
      "text/plain": [
       "True"
      ]
     },
     "execution_count": 37,
     "metadata": {},
     "output_type": "execute_result"
    }
   ],
   "source": [
    "# check the output by open it using webbrowser\n",
    "webbrowser.open('https://automatetheboringstuff.com/files/rj.txt')"
   ]
  },
  {
   "cell_type": "code",
   "execution_count": 38,
   "id": "853279f7",
   "metadata": {},
   "outputs": [
    {
     "name": "stdout",
     "output_type": "stream",
     "text": [
      "[<title>No Starch Press | \"The finest in geek entertainment\"</title>]\n"
     ]
    }
   ],
   "source": [
    "import requests, bs4\n",
    "res = requests.get('https://nostarch.com/')\n",
    "res.raise_for_status()\n",
    "noStarchSoup = bs4.BeautifulSoup(res.text)\n",
    "metas = noStarchSoup.select('meta')\n",
    "titles = noStarchSoup.select('title')\n",
    "print(titles)\n",
    "#print(metas)"
   ]
  },
  {
   "cell_type": "code",
   "execution_count": 39,
   "id": "1681fd81",
   "metadata": {},
   "outputs": [
    {
     "data": {
      "text/plain": [
       "bs4.BeautifulSoup"
      ]
     },
     "execution_count": 39,
     "metadata": {},
     "output_type": "execute_result"
    }
   ],
   "source": [
    "type(noStarchSoup)"
   ]
  },
  {
   "cell_type": "code",
   "execution_count": 40,
   "id": "99065ca6",
   "metadata": {},
   "outputs": [
    {
     "name": "stdout",
     "output_type": "stream",
     "text": [
      "<!DOCTYPE html>\n",
      "<html lang=\"en\" dir=\"ltr\" xmlns:og=\"https://ogp.me/ns#\">\n",
      "<head>\n",
      "<script src=\"/cdn-cgi/apps/head/j5v88GAcO1Pymf91CQYvgLZqNao.js\"></script><link rel=\"profile\" href=\"https://www.w3.org/19\n"
     ]
    }
   ],
   "source": [
    "print(res.text[:200])"
   ]
  },
  {
   "cell_type": "code",
   "execution_count": 41,
   "id": "c7b457de",
   "metadata": {},
   "outputs": [
    {
     "data": {
      "text/plain": [
       "True"
      ]
     },
     "execution_count": 41,
     "metadata": {},
     "output_type": "execute_result"
    }
   ],
   "source": [
    "webbrowser.open('https://nostarch.com/')"
   ]
  },
  {
   "cell_type": "code",
   "execution_count": 42,
   "id": "1658a99c",
   "metadata": {},
   "outputs": [
    {
     "name": "stdout",
     "output_type": "stream",
     "text": [
      "[<span id=\"author\"> Y Li </span>]\n"
     ]
    }
   ],
   "source": [
    "ef = open('example.html')\n",
    "es = bs4.BeautifulSoup(ef)\n",
    "authors = es.select('#author')\n",
    "print(authors)"
   ]
  },
  {
   "cell_type": "code",
   "execution_count": null,
   "id": "3798925e",
   "metadata": {},
   "outputs": [],
   "source": []
  }
 ],
 "metadata": {
  "kernelspec": {
   "display_name": "Python 3",
   "language": "python",
   "name": "python3"
  },
  "language_info": {
   "codemirror_mode": {
    "name": "ipython",
    "version": 3
   },
   "file_extension": ".py",
   "mimetype": "text/x-python",
   "name": "python",
   "nbconvert_exporter": "python",
   "pygments_lexer": "ipython3",
   "version": "3.11.0"
  }
 },
 "nbformat": 4,
 "nbformat_minor": 5
}
